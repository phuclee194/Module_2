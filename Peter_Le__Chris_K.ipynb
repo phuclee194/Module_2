{
  "nbformat": 4,
  "nbformat_minor": 0,
  "metadata": {
    "colab": {
      "name": "Peter_Le__Chris_K.ipynb",
      "version": "0.3.2",
      "provenance": [],
      "collapsed_sections": []
    },
    "kernelspec": {
      "name": "python3",
      "display_name": "Python 3"
    }
  },
  "cells": [
    {
      "cell_type": "code",
      "metadata": {
        "id": "vuFnDw3Ej4bc",
        "colab_type": "code",
        "outputId": "8dc758e6-552f-4533-830e-3bd25ef75a99",
        "colab": {
          "base_uri": "https://localhost:8080/",
          "height": 68
        }
      },
      "source": [
        "import numpy as np # Imports numpy as a variable \"np\"\n",
        "\n",
        "nums = [1, 2, 3, 4, 5] # Simple python list of ints\n",
        "\n",
        "arr = np. array(nums) # Typecasts from Python list to numpy arry\n",
        "\n",
        "nums_2 = [range(1,5), range(5,9)] # Sets of a list of 2 lists aka 2D List\n",
        "\n",
        "arr_2 = np.array(nums_2) # Typecasts from a Python list to a numpy array\n",
        "\n",
        "print(arr_2)\n",
        "print(arr)"
      ],
      "execution_count": 0,
      "outputs": [
        {
          "output_type": "stream",
          "text": [
            "[[1 2 3 4]\n",
            " [5 6 7 8]]\n",
            "[1 2 3 4 5]\n"
          ],
          "name": "stdout"
        }
      ]
    },
    {
      "cell_type": "code",
      "metadata": {
        "id": "1F2_CjkAljDl",
        "colab_type": "code",
        "outputId": "7ab2fa4c-5621-4cfc-9c0b-9665f534bd95",
        "colab": {
          "base_uri": "https://localhost:8080/",
          "height": 136
        }
      },
      "source": [
        "print(np.zeros(10)) # Displays a row of 10 * \"0\"\n",
        "print(np.zeros((3,6))) # Displays a 3 x 6 matrix of \"0\"\n",
        "print(np.ones(10)) # Displays a row of 10 * \"1\"\n",
        "print(np.linspace(0, 1, 5)) # Displays 5 even intervals from 0 - 1\n",
        "print(np.logspace(0, 3, 4)) # Displays 10**n power where n in range(4)"
      ],
      "execution_count": 0,
      "outputs": [
        {
          "output_type": "stream",
          "text": [
            "[0. 0. 0. 0. 0. 0. 0. 0. 0. 0.]\n",
            "[[0. 0. 0. 0. 0. 0.]\n",
            " [0. 0. 0. 0. 0. 0.]\n",
            " [0. 0. 0. 0. 0. 0.]]\n",
            "[1. 1. 1. 1. 1. 1. 1. 1. 1. 1.]\n",
            "[0.   0.25 0.5  0.75 1.  ]\n",
            "[   1.   10.  100. 1000.]\n"
          ],
          "name": "stdout"
        }
      ]
    },
    {
      "cell_type": "code",
      "metadata": {
        "id": "pcUVtE6rmRwf",
        "colab_type": "code",
        "outputId": "0cf74e4b-b6d7-4ce4-fd60-dea2e6a50f19",
        "colab": {
          "base_uri": "https://localhost:8080/",
          "height": 119
        }
      },
      "source": [
        "arr = arr.astype(float) # Converts each data element to a float\n",
        "print(arr.dtype) # .dtype returns the data type of ea el in the array\n",
        "print(arr_2.dtype)\n",
        "print(arr.ndim) # Displays the number of m=rows\n",
        "print(arr_2.shape) # Displays the m=rows x n=cols of the given array\n",
        "print(arr.size) # Displays the number of n=cols\n",
        "print(len(arr_2)) # Displays the len of the outermost specified array"
      ],
      "execution_count": 0,
      "outputs": [
        {
          "output_type": "stream",
          "text": [
            "float64\n",
            "int64\n",
            "1\n",
            "(2, 4)\n",
            "5\n",
            "2\n"
          ],
          "name": "stdout"
        }
      ]
    },
    {
      "cell_type": "code",
      "metadata": {
        "id": "4AyuazFtnyFC",
        "colab_type": "code",
        "outputId": "079448a2-cebd-4414-8ed5-c1dc94fd1dc7",
        "colab": {
          "base_uri": "https://localhost:8080/",
          "height": 119
        }
      },
      "source": [
        "arr = np.arange(10, dtype=float).reshape((2,5))\n",
        "# Instantiates an numpy array of 10 float elements in a m=2 x n=5 matrix\n",
        "print(arr.shape) # Displays the m=rows x n=cols of the given array\n",
        "print(arr.reshape(5,2)) # Rearranges an 2 x 5 matrix into an m=2 x n=5 matrix"
      ],
      "execution_count": 0,
      "outputs": [
        {
          "output_type": "stream",
          "text": [
            "(2, 5)\n",
            "[[0. 1.]\n",
            " [2. 3.]\n",
            " [4. 5.]\n",
            " [6. 7.]\n",
            " [8. 9.]]\n"
          ],
          "name": "stdout"
        }
      ]
    },
    {
      "cell_type": "code",
      "metadata": {
        "id": "4nKMfsKMokkz",
        "colab_type": "code",
        "outputId": "dbce180e-00ba-46ab-f7ef-c95d63872e69",
        "colab": {
          "base_uri": "https://localhost:8080/",
          "height": 136
        }
      },
      "source": [
        "a = np.array([0, 1]) # Instantiates an array from the input list.\n",
        "a_col = a[:, np.newaxis] # Takes all el's from a and converts them into a col\n",
        "print(a_col)\n",
        "print(a_col.T)\n",
        "arr_flt = arr.flatten() # Puts the input array into a singular row\n",
        "arr_flt[0] = 33 # Changes the first value to '33'\n",
        "print(arr_flt)\n",
        "print(arr)\n",
        "arr_flt = arr.ravel()\n",
        "arr_flt[0] = 33 # Changes the first value to '33'. The significance here is\n",
        "# that, because arr_flt is a reference to the same memory space as arr, when\n",
        "# a value is changed in either reference, the value stored in memory is changed\n",
        "# meaning that both arrays now refer to the same changed value. DANGER!!!!\n",
        "print(arr_flt)"
      ],
      "execution_count": 0,
      "outputs": [
        {
          "output_type": "stream",
          "text": [
            "[[0]\n",
            " [1]]\n",
            "[[0 1]]\n",
            "[33.  1.  2.  3.  4.  5.  6.  7.  8.  9.]\n",
            "[[0. 1. 2. 3. 4.]\n",
            " [5. 6. 7. 8. 9.]]\n",
            "[33.  1.  2.  3.  4.  5.  6.  7.  8.  9.]\n"
          ],
          "name": "stdout"
        }
      ]
    },
    {
      "cell_type": "code",
      "metadata": {
        "id": "JLrEuBHUpZ6m",
        "colab_type": "code",
        "outputId": "bb2fd09e-45af-4e1c-bb75-ea290d2c7909",
        "colab": {
          "base_uri": "https://localhost:8080/",
          "height": 85
        }
      },
      "source": [
        "a = np.array(np.arange(2)) # Instantiates an array with '0, 1' inside\n",
        "b = np.array(np.arange(2, 4)) # Instantiates an array with '2, 3' inside\n",
        "ab = np.stack((a, b)) # Places both arrays into a new array with one stacked on\n",
        "# top of the other.\n",
        "print(ab)\n",
        "ab = ab.T # Converts each row to cols in the output array.\n",
        "print(ab)"
      ],
      "execution_count": 0,
      "outputs": [
        {
          "output_type": "stream",
          "text": [
            "[[0 1]\n",
            " [2 3]]\n",
            "[[0 2]\n",
            " [1 3]]\n"
          ],
          "name": "stdout"
        }
      ]
    },
    {
      "cell_type": "code",
      "metadata": {
        "id": "wcbX5Jplr5sL",
        "colab_type": "code",
        "outputId": "21a9f61e-139d-474b-e8c4-ac4f05fbe73f",
        "colab": {
          "base_uri": "https://localhost:8080/",
          "height": 272
        }
      },
      "source": [
        "print(arr)\n",
        "print(arr[0, :]) # Displays the first row in the input array\n",
        "print(arr[:, 0]) # Displays the first el in each row of the input array\n",
        "print(arr[:, :2]) # Displays the el's from 0 - 2 in ea row\n",
        "print(arr[:, 2:]) # Displays the el's from 2 - end in ea row\n",
        "arr_2 = arr[:, 1:4] # Returns the el's from 1 - 3 in ea row\n",
        "print(arr_2)\n",
        "arr_2[0][0] = 33 # Accesses the first el in the first row and assigns '33'\n",
        "# which changes that element in arr and arr_2\n",
        "print(arr_2)\n",
        "print(arr)\n",
        "print(arr[0, :: -1]) # Displays the reversed first row"
      ],
      "execution_count": 0,
      "outputs": [
        {
          "output_type": "stream",
          "text": [
            "[[33.  1.  2.  3.  4.]\n",
            " [ 5.  6.  7.  8.  9.]]\n",
            "[33.  1.  2.  3.  4.]\n",
            "[33.  5.]\n",
            "[[33.  1.]\n",
            " [ 5.  6.]]\n",
            "[[2. 3. 4.]\n",
            " [7. 8. 9.]]\n",
            "[[1. 2. 3.]\n",
            " [6. 7. 8.]]\n",
            "[[33.  2.  3.]\n",
            " [ 6.  7.  8.]]\n",
            "[[33. 33.  2.  3.  4.]\n",
            " [ 5.  6.  7.  8.  9.]]\n",
            "[ 4.  3.  2. 33. 33.]\n"
          ],
          "name": "stdout"
        }
      ]
    },
    {
      "cell_type": "code",
      "metadata": {
        "id": "0ZSQJLZ3s0A_",
        "colab_type": "code",
        "outputId": "953d24aa-752e-42f8-9250-d3819336f462",
        "colab": {
          "base_uri": "https://localhost:8080/",
          "height": 204
        }
      },
      "source": [
        "arr_2 = arr[:, [1, 2, 3]] # Returns the element at each index in each row of\n",
        "# the index specified in the list arg\n",
        "print(arr_2)\n",
        "arr_2[0, 0] = 44 # Sets the first el in the first row to 44. This is to \n",
        "# demonstrate that this method of copying an array ensures that the new array\n",
        "# is an entirely different array and not a copy of the original reference.\n",
        "print(arr_2)\n",
        "arr_2 = arr[arr > 5] # Returns all elements '> 5'\n",
        "print(arr_2)\n",
        "arr_2[0] = 44 # Changes the first element to '44'\n",
        "print(arr_2)\n",
        "print(arr)\n",
        "\n",
        "names = np.array(['Bob', 'Joe', 'Will', 'Bob'])\n",
        "# Instantiates an array of names\n",
        "names == 'Bob' # Piecewise comparison against the provided string which returns\n",
        "# 'True' or 'False' based on the boolean comparison into a new array.\n",
        "print(names == 'Bob')\n",
        "names[names != 'Bob'] = 'Joe' # Sets any names '!=' 'Bob' = 'Joe'\n",
        "print(names)\n",
        "print(np.unique(names)) # Returns a set of the values"
      ],
      "execution_count": 0,
      "outputs": [
        {
          "output_type": "stream",
          "text": [
            "[[33.  2.  3.]\n",
            " [ 6.  7.  8.]]\n",
            "[[44.  2.  3.]\n",
            " [ 6.  7.  8.]]\n",
            "[33. 33.  6.  7.  8.  9.]\n",
            "[44. 33.  6.  7.  8.  9.]\n",
            "[[33. 33.  2.  3.  4.]\n",
            " [ 5.  6.  7.  8.  9.]]\n",
            "[ True False False  True]\n",
            "['Bob' 'Joe' 'Joe' 'Bob']\n",
            "['Bob' 'Joe']\n"
          ],
          "name": "stdout"
        }
      ]
    },
    {
      "cell_type": "code",
      "metadata": {
        "id": "7xjBTWBhu8x4",
        "colab_type": "code",
        "outputId": "30ea2706-81a0-4731-c756-f86c30749110",
        "colab": {
          "base_uri": "https://localhost:8080/",
          "height": 459
        }
      },
      "source": [
        "nums = np.arange(5) # Insantiates an array from 0 - 4\n",
        "print(nums*10) # Piecewise multiplication\n",
        "print(np.sqrt(nums*10)) # Piecewise sqrt\n",
        "nums = np.floor(np.sqrt(nums*10)) # Rounds each el down if it has floating ints\n",
        "# after the decimal\n",
        "print(nums)\n",
        "print(np.isnan(nums)) # Returns a piecewise comparison of whether ea el\n",
        "# 'is not a number' as a new array.\n",
        "print(nums + np.arange(5)) # Piecewise addition of the new array\n",
        "print(np.maximum(nums, np.array([1, -2, 3, -4, 5])))\n",
        "# Displays the maximum at each index among the two arrays\n",
        "vec_1 = np.random.randn(10) # Generates random nums over a normal distribution\n",
        "# and then randomly selects 10 nums from that distribution\n",
        "vec_2 = np.random.randn(10) \n",
        "dist = np.sqrt(np.sum((vec_1 - vec_2) **2))\n",
        "# Computes the distribution of the two arrays.\n",
        "print(dist)\n",
        "\n",
        "rnd = np.random.randn(4, 2) # Returns a 4x2 array of randomly selected randomly\n",
        "# generated nums over a normal distribution and arranges them into a 4 x 2 matrix\n",
        "print(rnd)\n",
        "print(rnd.mean()) # Computes the mean of the entire matrix\n",
        "print(rnd.std()) # Computes the std of the entire matrix\n",
        "print(rnd.argmin()) # Returns the index of the min element counting from\n",
        "# rnd[0, 0] - rnd[end, end]\n",
        "print(rnd.sum()) # Returns the sum of the entire matrix\n",
        "print(rnd.sum(axis=0)) # Returns the sum of ea cols\n",
        "print(rnd.sum(axis=1)) # Returns the sum of ea row\n",
        "print((rnd > 0).sum()) # Returns the sum of all el's '> 0'\n",
        "print((rnd > 0).any()) # Returns a bool if any el's '> 0'\n",
        "print((rnd > 0).all()) # Returns a bool if all el's '> 0'\n",
        "np.random.seed(1234) # Sets the seed param for the random module\n",
        "print(np.random.rand(2,3)) # Returns a 2 x 3 matrix of randomly selected nums\n",
        "print(np.random.randn(10)) # Returns a row of 10 randomly selected nums from\n",
        "# a normal distribution of nums\n",
        "print(np.random.randint(0, 2, 10)) # Returns a row of 10 el's of randomly\n",
        "# selected integers between 0 - 1 (i.e. 0 or 1)"
      ],
      "execution_count": 0,
      "outputs": [
        {
          "output_type": "stream",
          "text": [
            "[ 0 10 20 30 40]\n",
            "[0.         3.16227766 4.47213595 5.47722558 6.32455532]\n",
            "[0. 3. 4. 5. 6.]\n",
            "[False False False False False]\n",
            "[ 0.  4.  6.  8. 10.]\n",
            "[1. 3. 4. 5. 6.]\n",
            "2.7998504192208746\n",
            "[[-1.89610087  0.68386223]\n",
            " [-1.00655134  0.00769448]\n",
            " [ 1.23084078  2.00074455]\n",
            " [-0.6721939   0.91388772]]\n",
            "0.15777295508673345\n",
            "1.2084036788297992\n",
            "0\n",
            "1.2621836406938676\n",
            "[-2.34400533  3.60618897]\n",
            "[-1.21223864 -0.99885686  3.23158533  0.24169382]\n",
            "5\n",
            "True\n",
            "False\n",
            "[[0.19151945 0.62210877 0.43772774]\n",
            " [0.78535858 0.77997581 0.27259261]]\n",
            "[ 8.59588414e-01 -6.36523504e-01  1.56963721e-02 -2.24268495e+00\n",
            "  1.15003572e+00  9.91946022e-01  9.53324128e-01 -2.02125482e+00\n",
            " -3.34077366e-01  2.11836468e-03]\n",
            "[0 0 0 1 1 1 0 1 1 0]\n"
          ],
          "name": "stdout"
        }
      ]
    },
    {
      "cell_type": "code",
      "metadata": {
        "id": "FqoIIhZ4xWyC",
        "colab_type": "code",
        "outputId": "b2fa1e77-f23b-49d4-b04c-bfa48d3c0bfa",
        "colab": {
          "base_uri": "https://localhost:8080/",
          "height": 102
        }
      },
      "source": [
        "a = np.zeros((4, 3)) # Sets up a 4 x 3 matrix of '0'\n",
        "for i in range(1, len(a)): # Changes each el in each row to a multiple of '10'\n",
        "    # based on its index 'i'\n",
        "    a[i] = np.ones(3)*(10 * i)\n",
        "b = np.array(np.arange(3)) # Returns an array with ' 0, 1, 2' inside\n",
        "print(a + b) # Displays the numpy property that allows matrices of differing\n",
        "# dimensions to be added\n",
        "print(np.shape(a + b)) # Displays the m=rows x n=cols dimensions of the array"
      ],
      "execution_count": 0,
      "outputs": [
        {
          "output_type": "stream",
          "text": [
            "[[ 0.  1.  2.]\n",
            " [10. 11. 12.]\n",
            " [20. 21. 22.]\n",
            " [30. 31. 32.]]\n",
            "(4, 3)\n"
          ],
          "name": "stdout"
        }
      ]
    },
    {
      "cell_type": "code",
      "metadata": {
        "id": "JQqr-HRH7pQm",
        "colab_type": "code",
        "outputId": "eb6cf847-78a5-49e5-c1a3-105f7ecf4d84",
        "colab": {
          "base_uri": "https://localhost:8080/",
          "height": 204
        }
      },
      "source": [
        "X = np.random.randn(4, 2)\n",
        "min_val = np.min(X, axis=0)\n",
        "print(X, \"\\n\")\n",
        "print(min_val, \"\\n\")\n",
        "\n",
        "def standardize(X):\n",
        "    col_mean = np.mean(X, axis=0)\n",
        "    col_std = np.std(X, axis=0)\n",
        "    return (X - col_mean)/col_std\n",
        "\n",
        "print(standardize(X))\n",
        "    "
      ],
      "execution_count": 0,
      "outputs": [
        {
          "output_type": "stream",
          "text": [
            "[[ 1.35835198 -0.28694235]\n",
            " [ 0.44143825 -0.76987271]\n",
            " [-0.97456841  0.70900741]\n",
            " [-0.10578273  0.77677573]] \n",
            "\n",
            "[-0.97456841 -0.76987271] \n",
            "\n",
            "[[ 1.39090516 -0.59850264]\n",
            " [ 0.30872572 -1.33175114]\n",
            " [-1.3625038   0.91367949]\n",
            " [-0.33712707  1.01657429]]\n"
          ],
          "name": "stdout"
        }
      ]
    },
    {
      "cell_type": "markdown",
      "metadata": {
        "id": "Se93XuYiMzd6",
        "colab_type": "text"
      },
      "source": [
        "PAGE 7.\n",
        "\n",
        "TASK: Describe in detail, what is happening in the diagram on page 7 of the handout.\n",
        "\n",
        "The firs step that numpy/python takes to execute the commands given is to compare the shape of each of the input matrices.\n",
        "i.e. how many rows and cols in Array_1 vs Array_2. If there is a mismatch, python, through the numpy module, knows to check\n",
        "if one of the dimensions of the smaller matrix can stretch to match the smallest dimension of the larger matrix. This continues\n",
        "until the dimensions of the larger matrix are exhausted as well. The example provided shows:\n",
        "\n",
        "            \n",
        "            [[0,   0,  0],\n",
        "              [10, 10, 10],\n",
        "              [20, 20, 20],\n",
        "              [30, 30, 30]]\n",
        "            \n",
        "                           +\n",
        "                           \n",
        "              [0, 1, 2]\n",
        "              \n",
        "              whereby:\n",
        "              \n",
        "              [0, 0, 0] + [0, 1, 2] = [0, 1, 2] and so on until the larger matrix has had the smaller\n",
        "              matrix added to each of its rows.   \n",
        "            \n",
        "            \n",
        "            \n",
        "            \n",
        "            "
      ]
    },
    {
      "cell_type": "markdown",
      "metadata": {
        "id": "PDdsULibO-tr",
        "colab_type": "text"
      },
      "source": [
        "np.zeros/ones : These are useful to assist in rapid creation of placeholder values within initial matrices for intializing necessary computational value matrices. i.e. theta values, identity matrices, etc...\n",
        "\n",
        "np.arange: This command rapidly intializes an array over a given range. This can be useful when instantiating a new array with default values.\n",
        "\n",
        "np.reshape: This command is another option for transforming a matrix so that computational and other operations may be executed properly. For example, when normalizing features.\n",
        "\n",
        "np.min/max/mean/std/sum: All of thes commands allow the programmer to find computational values necessary to build probability algorithms aimed at machine learning purposes. These commands are also customizable along axes making them even more useful as the complexity of neural network computations expand.\n",
        "\n",
        "np.array([some_list]).T: This accomplishes in one line of code what might have taken a skilled programmer several minutes as well as programming space to accomplish allowing the programmer to stay focused on problem-solving rather than getting lost in the code."
      ]
    }
  ]
}